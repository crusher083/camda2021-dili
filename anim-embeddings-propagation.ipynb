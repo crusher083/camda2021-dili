{
 "cells": [
  {
   "cell_type": "code",
   "execution_count": 1,
   "id": "4b1fa132",
   "metadata": {},
   "outputs": [],
   "source": [
    "import numpy as np\n",
    "import pandas as pd\n",
    "import matplotlib.pyplot as plt\n",
    "import matplotlib.animation as anim "
   ]
  },
  {
   "cell_type": "code",
   "execution_count": 2,
   "id": "815c0a44",
   "metadata": {},
   "outputs": [],
   "source": [
    "positive = pd.read_csv('data/positive.tsv', sep='\\t', index_col=0)\n",
    "positive['target'] = 1\n",
    "negative = pd.read_csv('data/negative.tsv', sep='\\t', index_col=0)\n",
    "negative['target'] = 0\n",
    "data_raw = positive.append(negative)\n",
    "target = data_raw.target.values"
   ]
  },
  {
   "cell_type": "code",
   "execution_count": 3,
   "id": "a692c5d2",
   "metadata": {},
   "outputs": [],
   "source": [
    "embedding = np.load('./embeddings/embed_articles_3.npy')"
   ]
  },
  {
   "cell_type": "code",
   "execution_count": 4,
   "id": "daf27d9e",
   "metadata": {},
   "outputs": [],
   "source": [
    "from sklearn.manifold import TSNE\n",
    "\n",
    "red_dim_embed = np.empty([0, 14203, 2])\n",
    "\n",
    "for x in embedding:\n",
    "    X_2D = TSNE(n_components=2, perplexity=50, random_state=42).fit_transform(x)\n",
    "    red_dim_embed = np.concatenate((red_dim_embed, X_2D[None, ...]), axis=0)"
   ]
  },
  {
   "cell_type": "code",
   "execution_count": 5,
   "id": "9ca70801",
   "metadata": {},
   "outputs": [
    {
     "data": {
      "text/plain": [
       "(12, 14203, 2)"
      ]
     },
     "execution_count": 5,
     "metadata": {},
     "output_type": "execute_result"
    }
   ],
   "source": [
    "red_dim_embed.shape"
   ]
  },
  {
   "cell_type": "code",
   "execution_count": 6,
   "id": "39cef655",
   "metadata": {},
   "outputs": [],
   "source": [
    "def intermediates(p1, p2, nb_points=8):\n",
    "    \"\"\"\"Return a list of nb_points equally spaced points\n",
    "    between p1 and p2\"\"\"\n",
    "    # If we have 8 intermediate points, we have 8+1=9 spaces\n",
    "    # between p1 and p2\n",
    "    x_spacing = (p2[0] - p1[0]) / (nb_points + 1)\n",
    "    y_spacing = (p2[1] - p1[1]) / (nb_points + 1)\n",
    "\n",
    "    return np.array([[p1[0] + i * x_spacing, p1[1] +  i * y_spacing] \n",
    "            for i in range(0, nb_points+2)])[:, :, 0]"
   ]
  },
  {
   "cell_type": "code",
   "execution_count": 8,
   "id": "a74b7b58",
   "metadata": {},
   "outputs": [],
   "source": [
    "def frame_generator():\n",
    "    for frame in range(1, 251):\n",
    "        # Yield the frame first\n",
    "        yield frame\n",
    "        # If we should \"sleep\" here, yield None HOLD_COUNT times  \n",
    "        if frame % 50 == 0:\n",
    "            for _ in range(24):\n",
    "                yield None"
   ]
  },
  {
   "cell_type": "code",
   "execution_count": 19,
   "id": "02856f9f",
   "metadata": {},
   "outputs": [
    {
     "data": {
      "image/png": "[encoded data removed]",
      "text/plain": [
       "<Figure size 432x288 with 1 Axes>"
      ]
     },
     "metadata": {
      "needs_background": "light"
     },
     "output_type": "display_data"
    }
   ],
   "source": [
    "ax = plt.axes()\n",
    "\n",
    "x, y = np.split(red_dim_embed, 2, axis=2)\n",
    "\n",
    "paths = np.empty([0, 550, 2])\n",
    "points = []\n",
    "for x_cord, y_cord, targ in zip(np.rollaxis(x, 1), np.rollaxis(y, 1), target):\n",
    "    [line] = ax.plot(x_cord, y_cord,\n",
    "                 color='blue', linewidth=1,\n",
    "                 alpha=0)\n",
    "    if targ == 0:\n",
    "        points.append(ax.plot(x_cord[0], y_cord[0], marker='o', color='tab:red', \n",
    "                              label='non-DILI', linestyle=\"None\", alpha=0.8, ms=5)[0])\n",
    "    elif targ == 1:\n",
    "        points.append(ax.plot(x_cord[0], y_cord[0], marker='o', color='tab:blue', \n",
    "                              label='DILI', linestyle=\"None\", alpha=0.8, ms=5)[0])\n",
    "\n",
    "    verts = np.empty([0, 2])\n",
    "\n",
    "    for n, val in enumerate(x_cord[:-1]):\n",
    "        interim = intermediates([x_cord[n], y_cord[n]], [x_cord[n+1], y_cord[n+1]], nb_points=48)\n",
    "        verts = np.append(verts, interim, axis=0)\n",
    "    paths = np.append(paths, verts[None, ...], axis=0)\n",
    "\n",
    "\n",
    "text = ax.text(0.015, 0.9, f'Layer {num}', fontsize=15,\n",
    "              transform=ax.transAxes)\n",
    "\n",
    "handles, labels = ax.get_legend_handles_labels()\n",
    "i = 1\n",
    "while i<len(labels):\n",
    "    if labels[i] in labels[:i]:\n",
    "        del(labels[i])\n",
    "        del(handles[i])\n",
    "    else:\n",
    "        i +=1\n",
    "\n",
    "ax.legend(handles, labels)\n",
    "\n",
    "def animate(i, verts=paths, text=text):\n",
    "    i = i % verts.shape[1]\n",
    "\n",
    "    # Set the coordinates of the line to the coordinate of the path.\n",
    "    for k in range(paths.shape[0]):\n",
    "        points[k].set_data(verts[k, i, 0], verts[k, i, 1])\n",
    "\n",
    "    # Update layer\n",
    "    if i == 0:\n",
    "        text.set_text('Layer 1')\n",
    "    elif (i + 1) % 50 == 0:s\n",
    "        text.set_text(f'Layer {int(((i + 1) / 50) + 1)}')\n",
    "    \n",
    "    return points\n",
    "\n",
    "def init():\n",
    "    return points\n",
    "        \n",
    "    \n",
    "ani = anim.FuncAnimation(\n",
    "    ax.figure, animate,\n",
    "    init_func=init,\n",
    "    frames= verts.shape[0],\n",
    "    interval=5, repeat=False\n",
    ")\n",
    "    \n",
    "plt.show()\n",
    "\n",
    "writervideo = anim.FFMpegWriter(fps=24)\n",
    "ani.save('point_ani.mp4', writer=writervideo, dpi=300)\n",
    "\n",
    "# ani.save('point_ani.gif', writer='pillow', dpi=50)"
   ]
  },
  {
   "cell_type": "code",
   "execution_count": null,
   "id": "051447fd",
   "metadata": {},
   "outputs": [],
   "source": []
  }
 ],
 "metadata": {
  "kernelspec": {
   "display_name": "Python [conda env:.conda-dili]",
   "language": "python",
   "name": "conda-env-.conda-dili-py"
  },
  "language_info": {
   "codemirror_mode": {
    "name": "ipython",
    "version": 3
   },
   "file_extension": ".py",
   "mimetype": "text/x-python",
   "name": "python",
   "nbconvert_exporter": "python",
   "pygments_lexer": "ipython3",
   "version": "3.6.13"
  }
 },
 "nbformat": 4,
 "nbformat_minor": 5
}
